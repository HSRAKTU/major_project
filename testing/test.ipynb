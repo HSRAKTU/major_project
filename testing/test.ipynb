{
 "cells": [
  {
   "cell_type": "code",
   "execution_count": null,
   "id": "c2111b0f",
   "metadata": {},
   "outputs": [],
   "source": [
    "import paddle\n",
    "import numpy as np\n",
    "\n",
    "def load_point_cloud(path):\n",
    "    tensor = paddle.load(path)\n",
    "    return tensor.numpy()  # Convert to NumPy array for Open3D\n"
   ]
  },
  {
   "cell_type": "code",
   "execution_count": null,
   "id": "c4e2ec95",
   "metadata": {},
   "outputs": [],
   "source": [
    "import open3d as o3d\n",
    "\n",
    "def visualize_point_cloud(points):\n",
    "    pcd = o3d.geometry.PointCloud()\n",
    "    pcd.points = o3d.utility.Vector3dVector(points)  # expects Nx3 array\n",
    "    o3d.visualization.draw_geometries([pcd])\n"
   ]
  },
  {
   "cell_type": "code",
   "execution_count": null,
   "id": "5ee9f210",
   "metadata": {},
   "outputs": [],
   "source": [
    "import numpy as np\n",
    "import matplotlib.pyplot as plt\n",
    "\n",
    "def generate_slices(points, axis='x', num_slices=100, project_to_2d=True):\n",
    "    \"\"\"\n",
    "    points: (N,3) array\n",
    "    axis: 'x','y', or 'z' — the direction along which to slice\n",
    "    num_slices: how many bins/slices to create\n",
    "    project_to_2d: if True, each slice is Nx2 (drops the slicing axis)\n",
    "    \n",
    "    Returns:\n",
    "      slices: list of length num_slices, each an (Mi,2) or (Mi,3) array\n",
    "      edges:   the (num_slices+1,) bin edges along the chosen axis\n",
    "    \"\"\"\n",
    "    axis_map = {'x':0, 'y':1, 'z':2}\n",
    "    ax = axis_map[axis]\n",
    "    \n",
    "    # 1. find min/max along axis\n",
    "    coords = points[:, ax]\n",
    "    min_val, max_val = coords.min(), coords.max()\n",
    "    \n",
    "    # 2. create equally spaced edges\n",
    "    edges = np.linspace(min_val, max_val, num_slices+1)\n",
    "    \n",
    "    slices = []\n",
    "    for i in range(num_slices):\n",
    "        low, high = edges[i], edges[i+1]\n",
    "        mask = (coords >= low) & (coords < high)\n",
    "        sl = points[mask]\n",
    "        if project_to_2d:\n",
    "            sl = np.delete(sl, ax, axis=1)  # drop the slicing axis\n",
    "        slices.append(sl)\n",
    "    \n",
    "    return slices, edges\n"
   ]
  },
  {
   "cell_type": "code",
   "execution_count": null,
   "id": "aecc1bb5",
   "metadata": {},
   "outputs": [],
   "source": [
    "def display_slices_same_scale(slices, edges, axis='x', n_cols=5, figsize=(15,3)):\n",
    "    # --- 1. gather global limits -------------------------\n",
    "    all_xy = np.vstack([sl for sl in slices if sl.size])\n",
    "    xmin, xmax = all_xy[:,0].min(), all_xy[:,0].max()\n",
    "    ymin, ymax = all_xy[:,1].min(), all_xy[:,1].max()\n",
    "\n",
    "    # add a tiny margin so dots at the edge aren’t clipped\n",
    "    pad_x = 0.02 * (xmax - xmin)\n",
    "    pad_y = 0.02 * (ymax - ymin)\n",
    "    xmin, xmax = xmin - pad_x, xmax + pad_x\n",
    "    ymin, ymax = ymin - pad_y, ymax + pad_y\n",
    "    # ------------------------------------------------------\n",
    "\n",
    "    n = len(slices)\n",
    "    n_rows = int(np.ceil(n / n_cols))\n",
    "    fig, axes = plt.subplots(n_rows, n_cols, figsize=(figsize[0], figsize[1]*n_rows))\n",
    "\n",
    "    for idx, sl in enumerate(slices):\n",
    "        ax = axes.flat[idx]\n",
    "        if sl.size:\n",
    "            ax.scatter(sl[:,0], sl[:,1], s=1, c='k')\n",
    "        else:\n",
    "            ax.text(0.5, 0.5, 'Empty', ha='center', va='center')\n",
    "        ax.set_xlim(xmin, xmax)\n",
    "        ax.set_ylim(ymin, ymax)\n",
    "        ax.set_aspect('equal', adjustable='box')\n",
    "        ax.axis('off')\n",
    "        ax.set_title(f\"{axis} ∈ [{edges[idx]:.2f}, {edges[idx+1]:.2f}) \\n slice : {idx}\")\n",
    "\n",
    "    for j in range(idx+1, n_rows*n_cols):\n",
    "        axes.flat[j].axis('off')\n",
    "\n",
    "    plt.tight_layout()\n",
    "    plt.show()\n",
    "\n"
   ]
  },
  {
   "cell_type": "code",
   "execution_count": null,
   "id": "4e3396ce",
   "metadata": {},
   "outputs": [],
   "source": [
    "# load your points \n",
    "points = load_point_cloud(\"../Data/PointClouds/DrivAer_F_D_WM_WW_0420.paddle_tensor\")\n",
    "\n",
    "# generate 80 slices along X, projecting each to YZ\n",
    "slices, edges = generate_slices(points, axis='z', num_slices=50, project_to_2d=True)\n",
    "\n",
    "# visualize them in a 5-column grid\n",
    "display_slices_same_scale(slices, edges=edges, axis='z', n_cols=5)\n"
   ]
  },
  {
   "cell_type": "code",
   "execution_count": null,
   "id": "e36e9495",
   "metadata": {},
   "outputs": [],
   "source": [
    "visualize_point_cloud(points)"
   ]
  }
 ],
 "metadata": {
  "kernelspec": {
   "display_name": "torch-gpu-copy",
   "language": "python",
   "name": "python3"
  },
  "language_info": {
   "codemirror_mode": {
    "name": "ipython",
    "version": 3
   },
   "file_extension": ".py",
   "mimetype": "text/x-python",
   "name": "python",
   "nbconvert_exporter": "python",
   "pygments_lexer": "ipython3",
   "version": "3.10.16"
  }
 },
 "nbformat": 4,
 "nbformat_minor": 5
}
